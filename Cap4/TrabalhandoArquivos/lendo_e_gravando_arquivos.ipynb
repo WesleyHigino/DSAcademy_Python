{
 "cells": [
  {
   "cell_type": "code",
   "execution_count": null,
   "metadata": {},
   "outputs": [],
   "source": []
  },
  {
   "cell_type": "code",
   "execution_count": null,
   "metadata": {},
   "outputs": [],
   "source": [
    "# Abrindo o arquivo para leitura \n",
    "# Lendo o arquivo\n",
    "\n",
    "arg1 = open(\"arquivos/arquivo1.txt\", \"r\") # open - para abrir o arquivo / \"r\" - Leitura\n",
    "print(arg1.read())"
   ]
  },
  {
   "cell_type": "code",
   "execution_count": null,
   "metadata": {},
   "outputs": [],
   "source": [
    "# Contar o numero de caracteres \n",
    "print(arg1.tell())"
   ]
  },
  {
   "cell_type": "code",
   "execution_count": null,
   "metadata": {},
   "outputs": [],
   "source": [
    "# Retornar para o inicio do arquivo\n",
    "print(arg1.seek(0,0))"
   ]
  },
  {
   "cell_type": "code",
   "execution_count": null,
   "metadata": {},
   "outputs": [],
   "source": [
    "# Ler os primeiros 10 caracteres \n",
    "print(arg1.read(10))"
   ]
  },
  {
   "cell_type": "code",
   "execution_count": null,
   "metadata": {},
   "outputs": [],
   "source": [
    "# Gravando arquivos \n",
    "arg2 = open(\"arquivos/arquivo1.txt\", \"w\") # \"w\" escrita, reinscreve o conteudo\n",
    "print(arg2.write(\"testando gravação de arquivos\"))"
   ]
  },
  {
   "cell_type": "code",
   "execution_count": null,
   "metadata": {},
   "outputs": [],
   "source": [
    "arg2.close"
   ]
  },
  {
   "cell_type": "code",
   "execution_count": null,
   "metadata": {},
   "outputs": [],
   "source": [
    "arg2 = open(\"arquivos/arquivo1.txt\", \"r\")\n",
    "print(arg2.read())"
   ]
  },
  {
   "cell_type": "code",
   "execution_count": null,
   "metadata": {},
   "outputs": [],
   "source": [
    "arg2 = open(\"arquivos/arquivo1.txt\", \"a\") # \"a\" adiciona conteudo\n",
    "print(arg2.write(\" ,python\"))"
   ]
  },
  {
   "cell_type": "markdown",
   "metadata": {},
   "source": [
    "### Automatizando o processo de gravação"
   ]
  },
  {
   "cell_type": "code",
   "execution_count": null,
   "metadata": {},
   "outputs": [],
   "source": [
    "fileName = input(\"Digite o nome do arquivo: \")\n",
    "fileName = fileName + \".txt\"\n",
    "arq3 = open(fileName, \"w\")\n",
    "arq3.write(\"Incluindo texto no arquivo criado\")\n",
    "arq3.close()\n",
    "arq3 = open(fileName, \"r\")\n",
    "print(arq3.read())\n",
    "arq3.close()"
   ]
  }
 ],
 "metadata": {
  "interpreter": {
   "hash": "f952e4edc52fab97ff876e3b8b09b981fef9647f51e30123c53f1eb89ffe3548"
  },
  "kernelspec": {
   "display_name": "Python 3.10.0 64-bit",
   "language": "python",
   "name": "python3"
  },
  "language_info": {
   "codemirror_mode": {
    "name": "ipython",
    "version": 3
   },
   "file_extension": ".py",
   "mimetype": "text/x-python",
   "name": "python",
   "nbconvert_exporter": "python",
   "pygments_lexer": "ipython3",
   "version": "3.9.7"
  },
  "orig_nbformat": 4
 },
 "nbformat": 4,
 "nbformat_minor": 2
}
