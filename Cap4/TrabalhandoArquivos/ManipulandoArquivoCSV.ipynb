{
 "cells": [
  {
   "cell_type": "markdown",
   "metadata": {},
   "source": [
    "# Manipulando arquivos CSV (comma-saparated values)"
   ]
  },
  {
   "cell_type": "markdown",
   "metadata": {},
   "source": [
    "#### * Arquivos CSV são arquivos separados por virgula, colunas separadas por virgulas\n",
    "#### * O chamado formato CSV (Comma Separated Values) é o formato mais comum de importação e exportação de planilhas e bancos de dados.\n",
    "----\n",
    "\n",
    "#### Os objetos de reader e writer do módulo csv leem e escrevem sequências. Os programadores também podem ler e gravar dados no formato de dicionário usando as classes DictReader e DictWriter."
   ]
  },
  {
   "cell_type": "code",
   "execution_count": 5,
   "metadata": {},
   "outputs": [],
   "source": [
    "# Importando o módulo csv\n",
    "import csv # necessario para manipular arquivos csv"
   ]
  },
  {
   "cell_type": "code",
   "execution_count": 12,
   "metadata": {},
   "outputs": [
    {
     "ename": "FileNotFoundError",
     "evalue": "[Errno 2] No such file or directory: 'arquivos/ocorrencia2.csv'",
     "output_type": "error",
     "traceback": [
      "\u001b[1;31m---------------------------------------------------------------------------\u001b[0m",
      "\u001b[1;31mFileNotFoundError\u001b[0m                         Traceback (most recent call last)",
      "\u001b[1;32mc:\\Users\\wesle\\Documents\\Projeto_Pratico\\Documentação\\Python\\Cap4\\TrabalhandoArquivos\\ManipulaçãoDeArquivos\\ManipulandoArquivoCSV.ipynb Cell 4'\u001b[0m in \u001b[0;36m<module>\u001b[1;34m\u001b[0m\n\u001b[1;32m----> <a href='vscode-notebook-cell:/c%3A/Users/wesle/Documents/Projeto_Pratico/Documenta%C3%A7%C3%A3o/Python/Cap4/TrabalhandoArquivos/Manipula%C3%A7%C3%A3oDeArquivos/ManipulandoArquivoCSV.ipynb#ch0000003?line=0'>1</a>\u001b[0m \u001b[39mwith\u001b[39;00m \u001b[39mopen\u001b[39;49m(\u001b[39m'\u001b[39;49m\u001b[39marquivos/ocorrencia2.csv\u001b[39;49m\u001b[39m'\u001b[39;49m,\u001b[39m'\u001b[39;49m\u001b[39mw\u001b[39;49m\u001b[39m'\u001b[39;49m) \u001b[39mas\u001b[39;00m arquivo:  \u001b[39m# with = Com\u001b[39;00m\n\u001b[0;32m      <a href='vscode-notebook-cell:/c%3A/Users/wesle/Documents/Projeto_Pratico/Documenta%C3%A7%C3%A3o/Python/Cap4/TrabalhandoArquivos/Manipula%C3%A7%C3%A3oDeArquivos/ManipulandoArquivoCSV.ipynb#ch0000003?line=1'>2</a>\u001b[0m     writer \u001b[39m=\u001b[39m csv\u001b[39m.\u001b[39mwriter(arquivo) \u001b[39m# writer - grava \u001b[39;00m\n\u001b[0;32m      <a href='vscode-notebook-cell:/c%3A/Users/wesle/Documents/Projeto_Pratico/Documenta%C3%A7%C3%A3o/Python/Cap4/TrabalhandoArquivos/Manipula%C3%A7%C3%A3oDeArquivos/ManipulandoArquivoCSV.ipynb#ch0000003?line=2'>3</a>\u001b[0m     writer\u001b[39m.\u001b[39mwriterow((\u001b[39m'\u001b[39m\u001b[39mprimeira\u001b[39m\u001b[39m'\u001b[39m,\u001b[39m'\u001b[39m\u001b[39msegunda\u001b[39m\u001b[39m'\u001b[39m,\u001b[39m'\u001b[39m\u001b[39mterceira\u001b[39m\u001b[39m'\u001b[39m)) \u001b[39m# writerow cria colunas \u001b[39;00m\n",
      "\u001b[1;31mFileNotFoundError\u001b[0m: [Errno 2] No such file or directory: 'arquivos/ocorrencia2.csv'"
     ]
    }
   ],
   "source": [
    "with open('arquivos/ocorrencia2.csv','w') as arquivo:  # with = Com\n",
    "    writer = csv.writer(arquivo) # writer - grava \n",
    "    writer.writerow(('primeira','segunda','terceira')) # writerow cria colunas \n",
    "    writer.writerow((55,93,76)) \n",
    "    writer.writerow((62,14,86))\n",
    "    "
   ]
  },
  {
   "cell_type": "code",
   "execution_count": 3,
   "metadata": {},
   "outputs": [
    {
     "ename": "FileNotFoundError",
     "evalue": "[Errno 2] No such file or directory: 'arquivos/numeros.csv'",
     "output_type": "error",
     "traceback": [
      "\u001b[1;31m---------------------------------------------------------------------------\u001b[0m",
      "\u001b[1;31mFileNotFoundError\u001b[0m                         Traceback (most recent call last)",
      "\u001b[1;32mc:\\Users\\wesle\\Documents\\Projeto_Pratico\\Documentação\\Python\\Cap4\\TrabalhandoArquivos\\ManipulaçãoDeArquivos\\ManipulandoArquivoCSV.ipynb Cell 5'\u001b[0m in \u001b[0;36m<module>\u001b[1;34m\u001b[0m\n\u001b[0;32m      <a href='vscode-notebook-cell:/c%3A/Users/wesle/Documents/Projeto_Pratico/Documenta%C3%A7%C3%A3o/Python/Cap4/TrabalhandoArquivos/Manipula%C3%A7%C3%A3oDeArquivos/ManipulandoArquivoCSV.ipynb#ch0000005?line=0'>1</a>\u001b[0m \u001b[39m# Leitura de arquivos csv\u001b[39;00m\n\u001b[1;32m----> <a href='vscode-notebook-cell:/c%3A/Users/wesle/Documents/Projeto_Pratico/Documenta%C3%A7%C3%A3o/Python/Cap4/TrabalhandoArquivos/Manipula%C3%A7%C3%A3oDeArquivos/ManipulandoArquivoCSV.ipynb#ch0000005?line=1'>2</a>\u001b[0m \u001b[39mwith\u001b[39;00m \u001b[39mopen\u001b[39;49m(\u001b[39m'\u001b[39;49m\u001b[39marquivos/numeros.csv\u001b[39;49m\u001b[39m'\u001b[39;49m,\u001b[39m'\u001b[39;49m\u001b[39mr\u001b[39;49m\u001b[39m'\u001b[39;49m) \u001b[39mas\u001b[39;00m arquivo:\n\u001b[0;32m      <a href='vscode-notebook-cell:/c%3A/Users/wesle/Documents/Projeto_Pratico/Documenta%C3%A7%C3%A3o/Python/Cap4/TrabalhandoArquivos/Manipula%C3%A7%C3%A3oDeArquivos/ManipulandoArquivoCSV.ipynb#ch0000005?line=2'>3</a>\u001b[0m     leitor \u001b[39m=\u001b[39m csv\u001b[39m.\u001b[39mreader(arquivo) \u001b[39m# reader - Faz a leitura\u001b[39;00m\n\u001b[0;32m      <a href='vscode-notebook-cell:/c%3A/Users/wesle/Documents/Projeto_Pratico/Documenta%C3%A7%C3%A3o/Python/Cap4/TrabalhandoArquivos/Manipula%C3%A7%C3%A3oDeArquivos/ManipulandoArquivoCSV.ipynb#ch0000005?line=3'>4</a>\u001b[0m     \u001b[39mfor\u001b[39;00m x \u001b[39min\u001b[39;00m leitor:\n",
      "\u001b[1;31mFileNotFoundError\u001b[0m: [Errno 2] No such file or directory: 'arquivos/numeros.csv'"
     ]
    }
   ],
   "source": [
    "# Leitura de arquivos csv\n",
    "with open('arquivos/numeros.csv','r') as arquivo:\n",
    "    leitor = csv.reader(arquivo) # reader - Faz a leitura\n",
    "    print(len(leitor))\n",
    "    # for x in leitor:\n",
    "    #     print ('Número de colunas:', len(x))\n",
    "    #     print(x)"
   ]
  },
  {
   "cell_type": "code",
   "execution_count": null,
   "metadata": {},
   "outputs": [],
   "source": [
    "# Código alternativo para eventuais problemas com linhas em branco no arquivo\n",
    "with open('arquivos/numeros.csv','r', encoding='utf8', newline = '\\r\\n') as arquivo:\n",
    "    leitor = csv.reader(arquivo)\n",
    "    for x in leitor:\n",
    "        print ('Número de colunas:', len(x))\n",
    "        print(x)"
   ]
  },
  {
   "cell_type": "code",
   "execution_count": null,
   "metadata": {},
   "outputs": [],
   "source": [
    "# Gerando uma lista com dados do arquivo csv\n",
    "with open('arquivos/numeros.csv','r') as arquivo:\n",
    "    leitor = csv.reader(arquivo)\n",
    "    dados = list(leitor)\n",
    "    \n",
    "    \n",
    "print (dados)"
   ]
  },
  {
   "cell_type": "code",
   "execution_count": null,
   "metadata": {},
   "outputs": [],
   "source": [
    "# Impriminfo a partir da segunda linha\n",
    "for linha in dados[1:]:\n",
    "    print (linha)"
   ]
  }
 ],
 "metadata": {
  "interpreter": {
   "hash": "f952e4edc52fab97ff876e3b8b09b981fef9647f51e30123c53f1eb89ffe3548"
  },
  "kernelspec": {
   "display_name": "Python 3.10.0 64-bit",
   "language": "python",
   "name": "python3"
  },
  "language_info": {
   "codemirror_mode": {
    "name": "ipython",
    "version": 3
   },
   "file_extension": ".py",
   "mimetype": "text/x-python",
   "name": "python",
   "nbconvert_exporter": "python",
   "pygments_lexer": "ipython3",
   "version": "3.10.0"
  },
  "orig_nbformat": 4
 },
 "nbformat": 4,
 "nbformat_minor": 2
}
